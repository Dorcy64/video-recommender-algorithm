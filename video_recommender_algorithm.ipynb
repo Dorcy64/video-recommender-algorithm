{
  "nbformat": 4,
  "nbformat_minor": 0,
  "metadata": {
    "colab": {
      "name": "video-recommender-algorithm.ipynb",
      "provenance": [],
      "authorship_tag": "ABX9TyPyqiU/d/dqf06EuCBJIeaC",
      "include_colab_link": true
    },
    "kernelspec": {
      "name": "python3",
      "display_name": "Python 3"
    },
    "language_info": {
      "name": "python"
    }
  },
  "cells": [
    {
      "cell_type": "markdown",
      "metadata": {
        "id": "view-in-github",
        "colab_type": "text"
      },
      "source": [
        "<a href=\"https://colab.research.google.com/github/Dorcy64/video-recommender-algorithm/blob/main/video_recommender_algorithm.ipynb\" target=\"_parent\"><img src=\"https://colab.research.google.com/assets/colab-badge.svg\" alt=\"Open In Colab\"/></a>"
      ]
    },
    {
      "cell_type": "code",
      "metadata": {
        "id": "vxUE4ZIW6SDV"
      },
      "source": [
        "import numpy\n",
        "# Generate 100 False/0 rows and 5 rows\n",
        "X = numpy.zeros((100, 5), \n",
        "                dtype=\"bool\")\n",
        "\n",
        "# Channel names for building the date set\n",
        "features = [\"Investing101\", \n",
        "            \"FunnyCatVideos\", \n",
        "            \"BuraaTech\", \n",
        "            \"MammothInteractive\", \n",
        "            \"VideoGameReviewer\"]\n",
        "\n",
        "INVESTIONG101_INDEX = 0\n",
        "FUNNYCATVIDEOS_INDEX = 1\n",
        "BURATECH_INDEX = 2\n",
        "MAMMOTHINTERACTIVE_INDEX = 3\n",
        "VIDEOGAMEREVIEWER_INDEX = 4\n",
        "\n",
        "VIEWER_COUNT = X.shape[0]\n",
        "\n",
        "LIKED_VIDEO = 1\n",
        "\n",
        "# Building the 100 user data set likes using numpy.random.random() to set the\n",
        "# boolean to true if the user liked it\n",
        "for viewer in range(VIEWER_COUNT):\n",
        "\n",
        "  if numpy.random.random() < 0.3:\n",
        "    X[viewer][INVESTIONG101_INDEX] = LIKED_VIDEO\n",
        "\n",
        "    if numpy.random.random() < 0.5:\n",
        "      X[viewer][FUNNYCATVIDEOS_INDEX] = LIKED_VIDEO\n",
        "    \n",
        "    if numpy.random.random() < 0.2:\n",
        "      X[viewer][BURATECH_INDEX] = LIKED_VIDEO\n",
        "    \n",
        "    if numpy.random.random() < 0.3:\n",
        "      X[viewer][MAMMOTHINTERACTIVE_INDEX] = LIKED_VIDEO\n",
        "    \n",
        "    if numpy.random.random() < 0.4:\n",
        "      X[viewer][VIDEOGAMEREVIEWER] = LIKED_VIDEO\n",
        "  else:\n",
        "    if numpy.random.random() < 0.5:\n",
        "      X[viewer][FUNNYCATVIDEOS_INDEX] = LIKED_VIDEO\n",
        "      \n",
        "      if numpy.random.random() < 0.3:\n",
        "        X[viewer][BURATECH_INDEX] = LIKED_VIDEO\n",
        "      \n",
        "      if numpy.random.random() < 0.2:\n",
        "        X[viewer][MAMMOTHINTERACTIVE_INDEX] = LIKED_VIDEO\n",
        "      \n",
        "      if numpy.random.random() < 0.4:\n",
        "        X[viewer][VIDEOGAMEREVIEWER] = LIKED_VIDEO\n",
        "    else:\n",
        "      if numpy.random.random() < 0.7:\n",
        "        X[viewer][BURATECH_INDEX] = LIKED_VIDEO\n",
        "\n",
        "      if numpy.random.random() < 0.55:\n",
        "        X[viewer][MAMMOTHINTERACTIVE_INDEX] = LIKED_VIDEO\n",
        "      \n",
        "      if numpy.random.random() < 0.8:\n",
        "        X[viewer][VIDEOGAMEREVIEWER] = LIKED_VIDEO\n",
        "\n",
        "  # If the viewer didn't like any video recommend something\n",
        "  if X[viewer].sum() == 0:\n",
        "    X[viewer][VIDEOGAMEREVIEWER] = LIKED_VIDEO\n",
        "\n",
        "# save the created dataset \n",
        "numpy.savetxt(\"viewer_profiles.txt\", X, fmt=\"%d\")\n"
      ],
      "execution_count": 25,
      "outputs": []
    },
    {
      "cell_type": "code",
      "metadata": {
        "colab": {
          "base_uri": "https://localhost:8080/"
        },
        "id": "D8nvC95P6u5Y",
        "outputId": "a8b4671c-f844-4284-8535-f43dc4750333"
      },
      "source": [
        "# Retrieve the numpy array data set and check if its created\n",
        "X = numpy.loadtxt(\"viewer_profiles.txt\")\n",
        "print(X.shape)"
      ],
      "execution_count": 26,
      "outputs": [
        {
          "output_type": "stream",
          "name": "stdout",
          "text": [
            "(100, 5)\n"
          ]
        }
      ]
    },
    {
      "cell_type": "code",
      "metadata": {
        "colab": {
          "base_uri": "https://localhost:8080/"
        },
        "id": "TJubnA85RI2o",
        "outputId": "699cced6-9d6a-46d6-cd81-d49527fab1f9"
      },
      "source": [
        "# Count how many viewers like each channel.\n",
        "number_of_mammothinteractive_likes = 0\n",
        "number_of_funnycatvideos_likes = 0\n",
        "number_of_buratech_likes = 0\n",
        "number_of_investing101_likes = 0\n",
        "number_of_videogamereviewer_likes = 0\n",
        "\n",
        "for viewer in X:\n",
        "  if viewer[MAMMOTHINTERACTIVE] == 1:\n",
        "    number_of_mammothinteractive_likes += 1\n",
        "\n",
        "  if viewer[FUNNYCATVIDEOS_INDEX] == 1:\n",
        "    number_of_funnycatvideos_likes += 1\n",
        "\n",
        "  if viewer[BURATECH_INDEX] == 1:\n",
        "    number_of_buratech_likes += 1\n",
        "  \n",
        "  if viewer[INVESTIONG101_INDEX] == 1:\n",
        "    number_of_investing101_likes += 1\n",
        "  if viewer[VIDEOGAMEREVIEWER] == 1:\n",
        "    number_of_videogamereviewer_likes += 1\n",
        "  \n",
        "print(\"Mammoth Interactive: {0} likes\\n\\\n",
        "Funny Cat Videos: {1} likes\\n\\\n",
        "Bura Tech: {2} likes\\n\\\n",
        "Investing 101: {3} likes\\n\\\n",
        "VideoGameReviewer: {4} likes\".format(\n",
        "    number_of_mammothinteractive_likes, \n",
        "    number_of_funnycatvideos_likes,\n",
        "    number_of_buratech_likes,\n",
        "    number_of_investing101_likes,\n",
        "    number_of_videogamereviewer_likes,\n",
        "))"
      ],
      "execution_count": 27,
      "outputs": [
        {
          "output_type": "stream",
          "name": "stdout",
          "text": [
            "Mammoth Interactive: 24 likes\n",
            "Funny Cat Videos: 58 likes\n",
            "Bura Tech: 41 likes\n",
            "Investing 101: 22 likes\n",
            "VideoGameReviewer: 49 likes\n"
          ]
        }
      ]
    },
    {
      "cell_type": "code",
      "metadata": {
        "colab": {
          "base_uri": "https://localhost:8080/"
        },
        "id": "XCAxCT4PSKDf",
        "outputId": "06226507-df89-4f77-b5c5-e207b4c12a6c"
      },
      "source": [
        "rule_valid = 0\n",
        "rule_invalid = 0\n",
        "# Check to see if a user in the past has liked both channels\n",
        "for viewer in X: \n",
        "  if viewer[MAMMOTHINTERACTIVE_INDEX] == 1:\n",
        "    if viewer[VIDEOGAMEREVIEWER_INDEX] == 1:\n",
        "      rule_valid += 1\n",
        "    else:\n",
        "      rule_invalid += 1\n",
        "\n",
        "# Printin the rule to see the results\n",
        "print(\"If the viewer liked mamoth interactive they will like video game reviewer\")\n",
        "print(\"{0} times the rule was valid\".format(rule_valid))\n",
        "print(\"{0} times the rule was invalid\".format(rule_invalid))\n"
      ],
      "execution_count": 28,
      "outputs": [
        {
          "output_type": "stream",
          "name": "stdout",
          "text": [
            "If the viewer liked mamoth interactive they will like video game reviewer\n",
            "12 times the rule was valid\n",
            "12 times the rule was invalid\n"
          ]
        }
      ]
    },
    {
      "cell_type": "code",
      "metadata": {
        "id": "_fmfl67WSRPf",
        "colab": {
          "base_uri": "https://localhost:8080/"
        },
        "outputId": "0206bcb1-6ee9-42e0-cdc2-716eb6e3c3e6"
      },
      "source": [
        "support = rule_valid\n",
        "confidence = rule_valid / number_of_mammothinteractive_likes\n",
        "\n",
        "print(\"Support: {0}\".format(support))\n",
        "\n",
        "# Is there colleration between the two channels?\n",
        "# If the colleration is above a certain percentage recommend the channel\n",
        "print(\"Confidence: {0:.1f}%\".format(100 * confidence))"
      ],
      "execution_count": 29,
      "outputs": [
        {
          "output_type": "stream",
          "name": "stdout",
          "text": [
            "Support: 12\n",
            "Confidence: 50.0%\n"
          ]
        }
      ]
    },
    {
      "cell_type": "code",
      "metadata": {
        "colab": {
          "base_uri": "https://localhost:8080/"
        },
        "id": "6qyzWo6xQTjo",
        "outputId": "7c303754-5a5b-48b9-dd8e-aa7cb622839a"
      },
      "source": [
        "number_of_samples, number_of_features = X.shape\n",
        "\n",
        "from collections import defaultdict\n",
        " \n",
        "number_of_occurences = defaultdict(int)\n",
        "\n",
        "times_rule_valid     = defaultdict(int)\n",
        "\n",
        "times_rule_invalid   = defaultdict(int)\n",
        "\n",
        "for viewer in X:\n",
        "  for premise in range(number_of_features):\n",
        "    # If the first channel was not liked skipp the loop\n",
        "    if viewer[premise] == 0: continue\n",
        "    # Else increase the global occurence by one\n",
        "    number_of_occurences[premise] += 1\n",
        "\n",
        "    for conclusions in range(number_of_features):\n",
        "      # If checking the channel against the channel then skip\n",
        "      if premise == conclusions: continue\n",
        "\n",
        "      # if viewer liked both channels then make a correlaation\n",
        "      if viewer[conclusions] == 1:\n",
        "        times_rule_valid[(premise, conclusions)] += 1\n",
        "\n",
        "      # else make a negative correlation\n",
        "      else:\n",
        "        times_rule_invalid[(premise, conclusions)] += 1 \n",
        "\n",
        "support = times_rule_valid\n",
        "confidence = defaultdict(int)\n",
        "\n",
        "for premise, conclusions in times_rule_valid.keys():\n",
        "  # New rule for each number of channel\n",
        "\n",
        "  confidence[(premise, conclusions)] = times_rule_valid[(premise, conclusions)] / number_of_occurences[premise]\n",
        "\n",
        "for premise, conclusions in confidence:\n",
        "\n",
        "  first_channel = features[premise]\n",
        "  second_channel = features[conclusions]\n",
        "\n",
        "  print(f\"Rule: if a viewer liked {first_channel}, they will also like {second_channel}\")\n",
        "  print(\"Confidence: {0:.1f}%\".format(100* confidence[(premise, conclusions)]))\n",
        "  print(f\"Support:  {support[(premise, conclusions)]}\\n\")"
      ],
      "execution_count": 36,
      "outputs": [
        {
          "output_type": "stream",
          "name": "stdout",
          "text": [
            "Rule: if a viewer liked BuraaTech, they will also like VideoGameReviewer\n",
            "Confidence: 65.9%\n",
            "Support:  27\n",
            "\n",
            "Rule: if a viewer liked VideoGameReviewer, they will also like BuraaTech\n",
            "Confidence: 55.1%\n",
            "Support:  27\n",
            "\n",
            "Rule: if a viewer liked FunnyCatVideos, they will also like BuraaTech\n",
            "Confidence: 25.9%\n",
            "Support:  15\n",
            "\n",
            "Rule: if a viewer liked BuraaTech, they will also like FunnyCatVideos\n",
            "Confidence: 36.6%\n",
            "Support:  15\n",
            "\n",
            "Rule: if a viewer liked Investing101, they will also like FunnyCatVideos\n",
            "Confidence: 54.5%\n",
            "Support:  12\n",
            "\n",
            "Rule: if a viewer liked Investing101, they will also like BuraaTech\n",
            "Confidence: 22.7%\n",
            "Support:  5\n",
            "\n",
            "Rule: if a viewer liked FunnyCatVideos, they will also like Investing101\n",
            "Confidence: 20.7%\n",
            "Support:  12\n",
            "\n",
            "Rule: if a viewer liked BuraaTech, they will also like Investing101\n",
            "Confidence: 12.2%\n",
            "Support:  5\n",
            "\n",
            "Rule: if a viewer liked BuraaTech, they will also like MammothInteractive\n",
            "Confidence: 29.3%\n",
            "Support:  12\n",
            "\n",
            "Rule: if a viewer liked MammothInteractive, they will also like BuraaTech\n",
            "Confidence: 50.0%\n",
            "Support:  12\n",
            "\n",
            "Rule: if a viewer liked MammothInteractive, they will also like VideoGameReviewer\n",
            "Confidence: 50.0%\n",
            "Support:  12\n",
            "\n",
            "Rule: if a viewer liked VideoGameReviewer, they will also like MammothInteractive\n",
            "Confidence: 24.5%\n",
            "Support:  12\n",
            "\n",
            "Rule: if a viewer liked FunnyCatVideos, they will also like VideoGameReviewer\n",
            "Confidence: 29.3%\n",
            "Support:  17\n",
            "\n",
            "Rule: if a viewer liked VideoGameReviewer, they will also like FunnyCatVideos\n",
            "Confidence: 34.7%\n",
            "Support:  17\n",
            "\n",
            "Rule: if a viewer liked FunnyCatVideos, they will also like MammothInteractive\n",
            "Confidence: 19.0%\n",
            "Support:  11\n",
            "\n",
            "Rule: if a viewer liked MammothInteractive, they will also like FunnyCatVideos\n",
            "Confidence: 45.8%\n",
            "Support:  11\n",
            "\n",
            "Rule: if a viewer liked Investing101, they will also like VideoGameReviewer\n",
            "Confidence: 31.8%\n",
            "Support:  7\n",
            "\n",
            "Rule: if a viewer liked VideoGameReviewer, they will also like Investing101\n",
            "Confidence: 14.3%\n",
            "Support:  7\n",
            "\n",
            "Rule: if a viewer liked Investing101, they will also like MammothInteractive\n",
            "Confidence: 18.2%\n",
            "Support:  4\n",
            "\n",
            "Rule: if a viewer liked MammothInteractive, they will also like Investing101\n",
            "Confidence: 16.7%\n",
            "Support:  4\n",
            "\n"
          ]
        }
      ]
    },
    {
      "cell_type": "markdown",
      "metadata": {
        "id": "cLtcSsr7WX1_"
      },
      "source": [
        "## What does the code above do?:\n",
        "\n",
        "We are essentially comparing each channel to the other:\n",
        "Each number will represent a channel:\n",
        "\n",
        "0-1 0-2 0-3 0-4\n",
        "\n",
        "1-0 1-2 1-3 1-4\n",
        "\n",
        "2-0 2-1 2-3 2-4\n",
        "\n",
        "3-0 3-1 3-2 3-4\n",
        "\n",
        "4-0 4-1 4-2 4-3\n",
        "\n",
        "and so on...\n",
        "\n",
        "#### Now that we have the data we are going to look at how we are going to use it"
      ]
    },
    {
      "cell_type": "code",
      "metadata": {
        "colab": {
          "base_uri": "https://localhost:8080/"
        },
        "id": "Ydn0yVBuQwmV",
        "outputId": "2972046c-d2dc-4f32-e6c6-8bbcc3c23790"
      },
      "source": [
        "from pprint import pprint\n",
        "\n",
        "pprint(list(support.items()))"
      ],
      "execution_count": 38,
      "outputs": [
        {
          "output_type": "stream",
          "name": "stdout",
          "text": [
            "[((2, 4), 27),\n",
            " ((4, 2), 27),\n",
            " ((1, 2), 15),\n",
            " ((2, 1), 15),\n",
            " ((0, 1), 12),\n",
            " ((0, 2), 5),\n",
            " ((1, 0), 12),\n",
            " ((2, 0), 5),\n",
            " ((2, 3), 12),\n",
            " ((3, 2), 12),\n",
            " ((3, 4), 12),\n",
            " ((4, 3), 12),\n",
            " ((1, 4), 17),\n",
            " ((4, 1), 17),\n",
            " ((1, 3), 11),\n",
            " ((3, 1), 11),\n",
            " ((0, 4), 7),\n",
            " ((4, 0), 7),\n",
            " ((0, 3), 4),\n",
            " ((3, 0), 4)]\n"
          ]
        }
      ]
    },
    {
      "cell_type": "code",
      "metadata": {
        "colab": {
          "base_uri": "https://localhost:8080/"
        },
        "id": "fIPSR196ecDd",
        "outputId": "26aa013f-50a2-40c4-a390-6f6e7eca6a19"
      },
      "source": [
        "from operator import itemgetter\n",
        "support_sorted = sorted(support.items(), key=itemgetter(1), reverse=True)\n",
        "\n",
        "def print_results(premise, conclusions, support, confidence, features):\n",
        "  first_channel = features[premise]\n",
        "  second_channel = features[conclusions]\n",
        "\n",
        "  print(f\"Rule if a viewer like {first_channel}, they will like {second_channel}\")\n",
        "\n",
        "  print(\"Confidence: {0:.1f}%\".format(100* confidence[(premise, conclusions)]))\n",
        "  print(f\"Support:  {support[(premise, conclusions)]}\\n\")\n",
        "# This is the actual number of times use liked the video\n",
        "print(\"Sorting the results by support:\\n\")\n",
        "for index in range(5):\n",
        "\n",
        "  (premise, conclusions) = support_sorted[index][0]\n",
        "  print_results(premise, conclusions, support, confidence, features)\n"
      ],
      "execution_count": 41,
      "outputs": [
        {
          "output_type": "stream",
          "name": "stdout",
          "text": [
            "Sorting the results by support:\n",
            "\n",
            "Rule if a viewer like BuraaTech, they will like VideoGameReviewer\n",
            "Confidence: 65.9%\n",
            "Support:  27\n",
            "\n",
            "Rule if a viewer like VideoGameReviewer, they will like BuraaTech\n",
            "Confidence: 55.1%\n",
            "Support:  27\n",
            "\n",
            "Rule if a viewer like FunnyCatVideos, they will like VideoGameReviewer\n",
            "Confidence: 29.3%\n",
            "Support:  17\n",
            "\n",
            "Rule if a viewer like VideoGameReviewer, they will like FunnyCatVideos\n",
            "Confidence: 34.7%\n",
            "Support:  17\n",
            "\n",
            "Rule if a viewer like FunnyCatVideos, they will like BuraaTech\n",
            "Confidence: 25.9%\n",
            "Support:  15\n",
            "\n"
          ]
        }
      ]
    },
    {
      "cell_type": "code",
      "metadata": {
        "colab": {
          "base_uri": "https://localhost:8080/"
        },
        "id": "_SsjRrU7hSta",
        "outputId": "5a5f2ea5-8e2a-44f8-d810-e7946be339ba"
      },
      "source": [
        "# This it the confiddence we think the user will like the video\n",
        "print(\"Sorting by confidence: \\n\")\n",
        "confidence_sorted = sorted(confidence.items(), key=itemgetter(1), reverse=True)\n",
        "for index in range(5):\n",
        "  (premise, conclusions) = confidence_sorted[index][0]\n",
        "  print_results(premise, conclusions, support, confidence, features)"
      ],
      "execution_count": 42,
      "outputs": [
        {
          "output_type": "stream",
          "name": "stdout",
          "text": [
            "Sorting by confidence: \n",
            "\n",
            "Rule if a viewer like BuraaTech, they will like VideoGameReviewer\n",
            "Confidence: 65.9%\n",
            "Support:  27\n",
            "\n",
            "Rule if a viewer like VideoGameReviewer, they will like BuraaTech\n",
            "Confidence: 55.1%\n",
            "Support:  27\n",
            "\n",
            "Rule if a viewer like Investing101, they will like FunnyCatVideos\n",
            "Confidence: 54.5%\n",
            "Support:  12\n",
            "\n",
            "Rule if a viewer like MammothInteractive, they will like BuraaTech\n",
            "Confidence: 50.0%\n",
            "Support:  12\n",
            "\n",
            "Rule if a viewer like MammothInteractive, they will like VideoGameReviewer\n",
            "Confidence: 50.0%\n",
            "Support:  12\n",
            "\n"
          ]
        }
      ]
    },
    {
      "cell_type": "code",
      "metadata": {
        "id": "Pe17Ttrniok3"
      },
      "source": [
        "  "
      ],
      "execution_count": null,
      "outputs": []
    }
  ]
}